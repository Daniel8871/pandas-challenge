{
 "cells": [
  {
   "cell_type": "markdown",
   "metadata": {},
   "source": [
    "### Note\n",
    "* Instructions have been included for each segment. You do not have to follow them exactly, but they are included to help you think through the steps."
   ]
  },
  {
   "cell_type": "code",
   "execution_count": null,
   "metadata": {},
   "outputs": [],
   "source": [
    "# Dependencies and Setup\n",
    "import pandas as pd\n",
    "\n",
    "# File to Load (Remember to Change These)\n",
    "file_to_load = \"HeroesOfPymoli/Resources/purchase_data.csv\"\n",
    "\n",
    "# Read Purchasing File and store into Pandas data frame\n",
    "purchase_df = pd.read_csv(file_to_load)"
   ]
  },
  {
   "cell_type": "markdown",
   "metadata": {},
   "source": [
    "## Player Count"
   ]
  },
  {
   "cell_type": "markdown",
   "metadata": {},
   "source": [
    "* Display the total number of players\n"
   ]
  },
  {
   "cell_type": "code",
   "execution_count": null,
   "metadata": {},
   "outputs": [],
   "source": [
    "Total_players=purchase_df['SN'].unique()\n",
    "Total=len(Total_players)\n",
    "Total_df=pd.DataFrame({'Total Players':[Total]})\n",
    "Total_df"
   ]
  },
  {
   "cell_type": "markdown",
   "metadata": {},
   "source": [
    "## Purchasing Analysis (Total)"
   ]
  },
  {
   "cell_type": "markdown",
   "metadata": {},
   "source": [
    "* Run basic calculations to obtain number of unique items, average price, etc.\n",
    "\n",
    "\n",
    "* Create a summary data frame to hold the results\n",
    "\n",
    "\n",
    "* Optional: give the displayed data cleaner formatting\n",
    "\n",
    "\n",
    "* Display the summary data frame\n"
   ]
  },
  {
   "cell_type": "code",
   "execution_count": null,
   "metadata": {},
   "outputs": [],
   "source": [
    "# peaking at the data for analysis\n",
    "purchase_df.count()"
   ]
  },
  {
   "cell_type": "code",
   "execution_count": null,
   "metadata": {},
   "outputs": [],
   "source": [
    "# peaking at the data for analysis\n",
    "purchase_df.describe()"
   ]
  },
  {
   "cell_type": "code",
   "execution_count": null,
   "metadata": {
    "scrolled": true
   },
   "outputs": [],
   "source": [
    "# Number of Purchases\n",
    "Purchases = len(purchase_df['Purchase ID'].unique())\n",
    "\n",
    "# Unique Items\n",
    "Items = len(purchase_df['Item ID'].unique())\n",
    "\n",
    "# Average Price\n",
    "Avg_Price = purchase_df['Price'].mean()\n",
    "\n",
    "# Total Paid\n",
    "Total_price = purchase_df['Price'].sum()\n",
    "\n",
    "\n",
    "#Building Dataframe\n",
    "Summary_df = pd.DataFrame({'Unique Items':[Items],\n",
    "                           'Average_Price':[Avg_Price], \n",
    "                           'Num of Purchases': [Purchases], \n",
    "                           'Total Paid':[Total_price]})\n",
    "\n",
    "# Formatting\n",
    "Summary_df['Average_Price'] = Summary_df['Average_Price'].map(\"${:.2f}\".format)\n",
    "Summary_df['Total Paid'] = Summary_df['Total Paid'].map(\"${:.0f}\".format)\n",
    "\n",
    "# Set Index\n",
    "Summary_df.set_index('Num of Purchases')"
   ]
  },
  {
   "cell_type": "markdown",
   "metadata": {},
   "source": [
    "## Gender Demographics"
   ]
  },
  {
   "cell_type": "markdown",
   "metadata": {},
   "source": [
    "* Percentage and Count of Male Players\n",
    "\n",
    "\n",
    "* Percentage and Count of Female Players\n",
    "\n",
    "\n",
    "* Percentage and Count of Other / Non-Disclosed\n",
    "\n",
    "\n"
   ]
  },
  {
   "cell_type": "code",
   "execution_count": null,
   "metadata": {},
   "outputs": [],
   "source": [
    "purchase_df.head()"
   ]
  },
  {
   "cell_type": "code",
   "execution_count": null,
   "metadata": {},
   "outputs": [],
   "source": [
    "# Male Purchases\n",
    "purchase_df_male=purchase_df.loc[purchase_df['Gender']=='Male',:]\n",
    "Num_Males=len(purchase_df_male['SN'].unique())\n",
    "print(Num_Males)\n",
    "\n",
    "# Female Purchases\n",
    "purchase_df_female=purchase_df.loc[purchase_df['Gender']=='Female',:]\n",
    "Num_Females=len(purchase_df_female['SN'].unique())\n",
    "print(Num_Females)\n",
    "\n",
    "# Other Purchases\n",
    "purchase_df_other_1=purchase_df.loc[purchase_df['Gender']!='Female',:]\n",
    "purchase_df_other_2=purchase_df_other_1.loc[purchase_df_other_1['Gender']!='Male',:]\n",
    "Num_Other=len(purchase_df_other_2['SN'].unique())\n",
    "print(Num_Other)"
   ]
  },
  {
   "cell_type": "code",
   "execution_count": null,
   "metadata": {},
   "outputs": [],
   "source": [
    "# Percent Calculations\n",
    "fraction_m=Num_Males/Total_df['Total Players']\n",
    "fraction_f=Num_Females/Total_df['Total Players']\n",
    "fraction_o=Num_Other/Total_df['Total Players']\n",
    "\n",
    "# Formatting\n",
    "m_per = \"{:.0%}\".format(fraction_m[0])\n",
    "f_per = \"{:.0%}\".format(fraction_f[0])\n",
    "o_per = \"{:.0%}\".format(fraction_o[0])\n",
    "\n",
    "# Builidng dictionary for df\n",
    "gender_dict=[{'% Male Players':m_per},{'% Female Players':f_per},{'% Other Players':o_per}]\n",
    "gender_dict\n",
    "\n",
    "gender_dict={\n",
    "    'Total Count':[Num_Males,Num_Females,Num_Other],\n",
    "    'Percentage of Players':[m_per,f_per,o_per]\n",
    "    }\n",
    "\n",
    "# Dataframe\n",
    "percent_df=pd.DataFrame(gender_dict)\n",
    "percent_df"
   ]
  },
  {
   "cell_type": "code",
   "execution_count": null,
   "metadata": {},
   "outputs": [],
   "source": [
    "# Indexing\n",
    "ix=pd.Series(['Male','Female','Other/Non-Disclosed'])\n",
    "percent_df.set_index([ix])\n"
   ]
  },
  {
   "cell_type": "markdown",
   "metadata": {},
   "source": [
    "\n",
    "## Purchasing Analysis (Gender)"
   ]
  },
  {
   "cell_type": "markdown",
   "metadata": {},
   "source": [
    "* Run basic calculations to obtain purchase count, avg. purchase price, avg. purchase total per person etc. by gender\n",
    "\n",
    "\n",
    "\n",
    "\n",
    "* Create a summary data frame to hold the results\n",
    "\n",
    "\n",
    "* Optional: give the displayed data cleaner formatting\n",
    "\n",
    "\n",
    "* Display the summary data frame"
   ]
  },
  {
   "cell_type": "code",
   "execution_count": null,
   "metadata": {},
   "outputs": [],
   "source": [
    "# Grouping Purchases by gender\n",
    "purchase_df_group=purchase_df.groupby(['Gender'])\n",
    "\n",
    "# Grabbing purchase count by gender\n",
    "Purchase_Count_g=purchase_df_group['Purchase ID'].count()\n",
    "Purchase_Count_g.head()"
   ]
  },
  {
   "cell_type": "code",
   "execution_count": null,
   "metadata": {},
   "outputs": [],
   "source": [
    "# avg. purchase price by gender\n",
    "Avg_Price_g=purchase_df_group['Price'].mean()\n",
    "Avg_Price_g.head()"
   ]
  },
  {
   "cell_type": "code",
   "execution_count": null,
   "metadata": {},
   "outputs": [],
   "source": [
    "# purchase total per person by gender\n",
    "Total_Price_g=purchase_df_group['Price'].sum()\n",
    "Total_Price_g.head()"
   ]
  },
  {
   "cell_type": "code",
   "execution_count": null,
   "metadata": {},
   "outputs": [],
   "source": [
    "# Building dataframe\n",
    "Summary_Gender_df=pd.DataFrame({\n",
    "    \"Purchase Count\":Purchase_Count_g,\n",
    "    \"Avg. purchase price\":Avg_Price_g,\n",
    "    \"Purchase total\": Total_Price_g,\n",
    "    'Unique Users':[Num_Females,Num_Males,Num_Other]\n",
    "})\n"
   ]
  },
  {
   "cell_type": "code",
   "execution_count": null,
   "metadata": {},
   "outputs": [],
   "source": [
    "# Calculating per person average\n",
    "Summary_Gender_df[\"Per Person Avg\"]=Summary_Gender_df[\"Purchase total\"]/Summary_Gender_df['Unique Users']\n"
   ]
  },
  {
   "cell_type": "code",
   "execution_count": null,
   "metadata": {},
   "outputs": [],
   "source": [
    "# Formatting\n",
    "Summary_Gender_df[\"Avg. purchase price\"] = Summary_Gender_df[\"Avg. purchase price\"].map(\"${:.2f}\".format)\n",
    "Summary_Gender_df[\"Purchase total\"] = Summary_Gender_df[\"Purchase total\"].map(\"${:.2f}\".format)\n",
    "Summary_Gender_df[\"Per Person Avg\"] = Summary_Gender_df[\"Per Person Avg\"].map(\"${:.2f}\".format)\n",
    "Summary_Gender_df"
   ]
  },
  {
   "cell_type": "markdown",
   "metadata": {},
   "source": [
    "## Age Demographics"
   ]
  },
  {
   "cell_type": "markdown",
   "metadata": {},
   "source": [
    "* Establish bins for ages\n",
    "\n",
    "\n",
    "* Categorize the existing players using the age bins. Hint: use pd.cut()\n",
    "\n",
    "\n",
    "* Calculate the numbers and percentages by age group\n",
    "\n",
    "\n",
    "* Create a summary data frame to hold the results\n",
    "\n",
    "\n",
    "* Optional: round the percentage column to two decimal points\n",
    "\n",
    "\n",
    "* Display Age Demographics Table\n"
   ]
  },
  {
   "cell_type": "code",
   "execution_count": null,
   "metadata": {},
   "outputs": [],
   "source": [
    "age_purchase_df=purchase_df.copy()"
   ]
  },
  {
   "cell_type": "code",
   "execution_count": null,
   "metadata": {},
   "outputs": [],
   "source": [
    "bins=[0,10,15,20,25,30,35,40,150]\n",
    "labels=['<10','10-14','15-19','20-24','25-29','30-34','35-40','40+']"
   ]
  },
  {
   "cell_type": "code",
   "execution_count": null,
   "metadata": {},
   "outputs": [],
   "source": [
    "# Binning\n",
    "age_purchase_df['Age Summary']=pd.cut(age_purchase_df['Age'],bins,labels=labels,include_lowest=True, right=False)\n",
    "age_purchase_df.head()"
   ]
  },
  {
   "cell_type": "code",
   "execution_count": null,
   "metadata": {},
   "outputs": [],
   "source": [
    "# Grouping by bins\n",
    "age_grouped=age_purchase_df.groupby(['Age Summary'])\n",
    "age_grouped.nunique()"
   ]
  },
  {
   "cell_type": "code",
   "execution_count": null,
   "metadata": {},
   "outputs": [],
   "source": [
    "# Counting purchases \n",
    "Summarypercent_age=age_grouped['Purchase ID'].nunique()\n",
    "Summarypercent_age_df=pd.DataFrame(Summarypercent_age)"
   ]
  },
  {
   "cell_type": "code",
   "execution_count": null,
   "metadata": {},
   "outputs": [],
   "source": [
    "# Renaming Column\n",
    "Summarypercent_age_df = Summarypercent_age_df.rename(columns={\n",
    "    'Purchase ID':'Total Purchases'\n",
    "     })"
   ]
  },
  {
   "cell_type": "code",
   "execution_count": null,
   "metadata": {},
   "outputs": [],
   "source": [
    "# Calculating percentages\n",
    "Summarypercent_age_df['Percent of Total']=Summarypercent_age_df['Total Purchases']/Summarypercent_age_df['Total Purchases'].sum()\n",
    "\n",
    "# Formatting\n",
    "Summarypercent_age_df['Percent of Total']= Summarypercent_age_df['Percent of Total'].map(\"{:.0%}\".format)\n",
    "Summarypercent_age_df"
   ]
  },
  {
   "cell_type": "markdown",
   "metadata": {},
   "source": [
    "## Purchasing Analysis (Age)"
   ]
  },
  {
   "cell_type": "markdown",
   "metadata": {},
   "source": [
    "* Bin the purchase_data data frame by age\n",
    "\n",
    "\n",
    "* Run basic calculations to obtain purchase count, avg. purchase price, avg. purchase total per person etc. in the table below\n",
    "\n",
    "\n",
    "* Create a summary data frame to hold the results\n",
    "\n",
    "\n",
    "* Optional: give the displayed data cleaner formatting\n",
    "\n",
    "\n",
    "* Display the summary data frame"
   ]
  },
  {
   "cell_type": "code",
   "execution_count": null,
   "metadata": {},
   "outputs": [],
   "source": [
    "# Purchase count\n",
    "Purchase_Count_a=age_grouped['Purchase ID'].count()\n",
    "\n",
    "# avg. purchase price\n",
    "Avg_Price_a=age_grouped['Price'].mean()\n",
    "\n",
    "# purchase total per person\n",
    "Total_Price_a=age_grouped['Price'].sum()\n",
    "\n",
    "# number of people\n",
    "Unique_Users_a=age_grouped['SN'].nunique()\n",
    "\n",
    "\n",
    "## Build df\n",
    "Summary_Age_df=pd.DataFrame({\n",
    "    \"Purchase Count\":Purchase_Count_a,\n",
    "    \"Avg. purchase price\":Avg_Price_a,\n",
    "    \"Purchase total\": Total_Price_a,\n",
    "    \"Unique Users\": Unique_Users_a\n",
    "})\n",
    "\n",
    "Summary_Age_df"
   ]
  },
  {
   "cell_type": "code",
   "execution_count": null,
   "metadata": {},
   "outputs": [],
   "source": [
    "# Average purchase total per person\n",
    "Summary_Age_df[\"Per Person Avg\"]=Summary_Age_df[\"Purchase total\"]/Summary_Age_df['Unique Users']\n",
    "Summary_Age_df"
   ]
  },
  {
   "cell_type": "code",
   "execution_count": null,
   "metadata": {},
   "outputs": [],
   "source": [
    "# formatting\n",
    "Summary_Age_df[\"Avg. purchase price\"] = Summary_Age_df[\"Avg. purchase price\"].map(\"${:.2f}\".format)\n",
    "Summary_Age_df[\"Purchase total\"] = Summary_Age_df[\"Purchase total\"].map(\"${:.2f}\".format)\n",
    "Summary_Age_df[\"Per Person Avg\"] = Summary_Age_df[\"Per Person Avg\"].map(\"${:.2f}\".format)\n",
    "Summary_Age_df"
   ]
  },
  {
   "cell_type": "code",
   "execution_count": null,
   "metadata": {},
   "outputs": [],
   "source": []
  },
  {
   "cell_type": "markdown",
   "metadata": {},
   "source": [
    "## Top Spenders"
   ]
  },
  {
   "cell_type": "markdown",
   "metadata": {},
   "source": [
    "* Run basic calculations to obtain the results in the table below\n",
    "\n",
    "\n",
    "* Create a summary data frame to hold the results\n",
    "\n",
    "\n",
    "* Sort the total purchase value column in descending order\n",
    "\n",
    "\n",
    "* Optional: give the displayed data cleaner formatting\n",
    "\n",
    "\n",
    "* Display a preview of the summary data frame\n",
    "\n"
   ]
  },
  {
   "cell_type": "code",
   "execution_count": null,
   "metadata": {},
   "outputs": [],
   "source": [
    "top_purchase_df=purchase_df.copy()"
   ]
  },
  {
   "cell_type": "code",
   "execution_count": null,
   "metadata": {},
   "outputs": [],
   "source": [
    "# Groupby screename \n",
    "top_SN_group=top_purchase_df.groupby(['SN'])"
   ]
  },
  {
   "cell_type": "code",
   "execution_count": null,
   "metadata": {},
   "outputs": [],
   "source": [
    "# Sum the total purchases per SN, sort descending\n",
    "top_SN_df = pd.DataFrame(top_SN_group.sum().sort_values(['Price'],ascending=False))\n",
    "\n",
    "# Grab the top 5 in list\n",
    "top_spend_df = pd.DataFrame(top_SN_df.iloc[0:5,3])\n",
    "\n",
    "# Rename column\n",
    "top_spend_df = top_spend_df.rename(columns={'Price':'Total Purchase Value'})\n",
    "top_spend_df"
   ]
  },
  {
   "cell_type": "code",
   "execution_count": null,
   "metadata": {},
   "outputs": [],
   "source": [
    "# Count the total purchases per SN\n",
    "counts_for_top=top_SN_group.nunique()\n",
    "counts_for_top"
   ]
  },
  {
   "cell_type": "code",
   "execution_count": null,
   "metadata": {},
   "outputs": [],
   "source": [
    "# Merge Total Purchase Value and Purchase Count df's together\n",
    "top_merge_df=pd.merge(top_spend_df,counts_for_top,on='SN',how='inner')"
   ]
  },
  {
   "cell_type": "code",
   "execution_count": null,
   "metadata": {},
   "outputs": [],
   "source": [
    "# Renaming\n",
    "top_merge_df = top_merge_df.rename(columns={'Purchase ID':'Purchase Count'})\n",
    "top_merge_df"
   ]
  },
  {
   "cell_type": "code",
   "execution_count": null,
   "metadata": {},
   "outputs": [],
   "source": [
    "# Add Average Purchase Price column\n",
    "top_merge_df['Average Purchase Price']=top_merge_df['Total Purchase Value']/top_merge_df['Purchase Count']\n",
    "\n",
    "# Format\n",
    "top_merge_df['Average Purchase Price']=top_merge_df['Average Purchase Price'].map(\"${:.2f}\".format)\n",
    "top_merge_df['Total Purchase Value']=top_merge_df['Total Purchase Value'].map(\"${:.2f}\".format)\n",
    "\n",
    "# Delete extra columns\n",
    "top_merge_df_final=top_merge_df[['Purchase Count','Average Purchase Price','Total Purchase Value']]\n",
    "top_merge_df_final"
   ]
  },
  {
   "cell_type": "code",
   "execution_count": null,
   "metadata": {},
   "outputs": [],
   "source": []
  },
  {
   "cell_type": "markdown",
   "metadata": {},
   "source": [
    "## Most Popular Items"
   ]
  },
  {
   "cell_type": "markdown",
   "metadata": {},
   "source": [
    "* Retrieve the Item ID, Item Name, and Item Price columns\n",
    "\n",
    "\n",
    "* Group by Item ID and Item Name. Perform calculations to obtain purchase count, average item price, and total purchase value\n",
    "\n",
    "\n",
    "* Create a summary data frame to hold the results\n",
    "\n",
    "\n",
    "* Sort the purchase count column in descending order\n",
    "\n",
    "\n",
    "* Optional: give the displayed data cleaner formatting\n",
    "\n",
    "\n",
    "* Display a preview of the summary data frame\n",
    "\n"
   ]
  },
  {
   "cell_type": "code",
   "execution_count": null,
   "metadata": {},
   "outputs": [],
   "source": [
    "pop_purchase_df=purchase_df.copy()\n",
    "pop_purchase_df.head()"
   ]
  },
  {
   "cell_type": "code",
   "execution_count": null,
   "metadata": {},
   "outputs": [],
   "source": [
    "# Popular items, group by ID and Name\n",
    "pop_item_group = pop_purchase_df.groupby(['Item ID','Item Name'])"
   ]
  },
  {
   "cell_type": "code",
   "execution_count": null,
   "metadata": {},
   "outputs": [],
   "source": [
    "# Dataframe 1\n",
    "# obtain purchase count\n",
    "pop_item_df = pd.DataFrame(pop_item_group[['Purchase ID']].nunique())\n",
    "pop_item_df.head()"
   ]
  },
  {
   "cell_type": "code",
   "execution_count": null,
   "metadata": {},
   "outputs": [],
   "source": [
    "# Sort descending\n",
    "pop_item_df = pop_item_df.sort_values(['Purchase ID'],ascending=False)\n",
    "\n",
    "# Amend column name\n",
    "pop_item_df = pop_item_df.rename(columns={'Purchase ID':'Purchase Count'})\n",
    "pop_item_df.head()"
   ]
  },
  {
   "cell_type": "code",
   "execution_count": null,
   "metadata": {},
   "outputs": [],
   "source": [
    "# Grab the top 5 in list\n",
    "a_df = pd.DataFrame(pop_item_df.iloc[0:5,0])\n",
    "\n",
    "# Grab index for use later\n",
    "multi = list(a_df.index)\n",
    "\n",
    "# Show\n",
    "a_df"
   ]
  },
  {
   "cell_type": "code",
   "execution_count": null,
   "metadata": {},
   "outputs": [],
   "source": [
    "# Dataframe 2\n",
    "# total purchase value\n",
    "total_df = pop_item_group[['Price']].sum()\n",
    "\n",
    "# Rename column\n",
    "total_df = total_df.rename(columns={'Price':'Total Purchase Value'})\n",
    "total_df.head()"
   ]
  },
  {
   "cell_type": "code",
   "execution_count": null,
   "metadata": {
    "scrolled": true
   },
   "outputs": [],
   "source": [
    "# Use index list to build df of top spenders\n",
    "b_df = total_df.loc[[multi[0],multi[1],multi[2],multi[3],multi[4]]]\n",
    "b_df"
   ]
  },
  {
   "cell_type": "code",
   "execution_count": null,
   "metadata": {},
   "outputs": [],
   "source": [
    "# Dataframe 3\n",
    "# Price\n",
    "price_df = pop_purchase_df[['Item ID','Item Name','Price']]\n",
    "\n",
    "price_group = price_df.groupby(['Item ID','Item Name'])"
   ]
  },
  {
   "cell_type": "code",
   "execution_count": null,
   "metadata": {},
   "outputs": [],
   "source": [
    "# average item price\n",
    "price_df2 = pd.DataFrame(price_group.mean())\n",
    "price_df2.head()"
   ]
  },
  {
   "cell_type": "code",
   "execution_count": null,
   "metadata": {},
   "outputs": [],
   "source": [
    "# Use index list to build df of average prices\n",
    "c_df = price_df2.loc[[multi[0],multi[1],multi[2],multi[3],multi[4]]]\n",
    "\n",
    "# Rename column\n",
    "c_df=c_df.rename(columns={'Price':'Item Price'})\n",
    "c_df"
   ]
  },
  {
   "cell_type": "code",
   "execution_count": null,
   "metadata": {},
   "outputs": [],
   "source": [
    "# Aggregating df's (Step 1)\n",
    "join_df=a_df.join(c_df)\n",
    "join_df"
   ]
  },
  {
   "cell_type": "code",
   "execution_count": null,
   "metadata": {},
   "outputs": [],
   "source": [
    "# Aggregating df's (Step 2)\n",
    "join_df2=join_df.join(b_df)\n",
    "join_df2"
   ]
  },
  {
   "cell_type": "code",
   "execution_count": null,
   "metadata": {},
   "outputs": [],
   "source": [
    "# Formatting\n",
    "join_df2[\"Item Price\"] = join_df2[\"Item Price\"].map(\"${:.2f}\".format)\n",
    "join_df2[\"Total Purchase Value\"] = join_df2[\"Total Purchase Value\"].map(\"${:.2f}\".format)\n",
    "join_df2"
   ]
  },
  {
   "cell_type": "code",
   "execution_count": null,
   "metadata": {},
   "outputs": [],
   "source": []
  },
  {
   "cell_type": "markdown",
   "metadata": {},
   "source": [
    "## Most Profitable Items"
   ]
  },
  {
   "cell_type": "markdown",
   "metadata": {},
   "source": [
    "* Sort the above table by total purchase value in descending order\n",
    "\n",
    "\n",
    "* Optional: give the displayed data cleaner formatting\n",
    "\n",
    "\n",
    "* Display a preview of the data frame\n",
    "\n"
   ]
  },
  {
   "cell_type": "code",
   "execution_count": null,
   "metadata": {
    "scrolled": true
   },
   "outputs": [],
   "source": [
    "# Sorting\n",
    "join_df2 = join_df2.sort_values(['Total Purchase Value'], ascending=False)\n",
    "join_df2"
   ]
  },
  {
   "cell_type": "code",
   "execution_count": null,
   "metadata": {},
   "outputs": [],
   "source": []
  }
 ],
 "metadata": {
  "anaconda-cloud": {},
  "kernel_info": {
   "name": "python3"
  },
  "kernelspec": {
   "display_name": "Python 3",
   "language": "python",
   "name": "python3"
  },
  "language_info": {
   "codemirror_mode": {
    "name": "ipython",
    "version": 3
   },
   "file_extension": ".py",
   "mimetype": "text/x-python",
   "name": "python",
   "nbconvert_exporter": "python",
   "pygments_lexer": "ipython3",
   "version": "3.8.8"
  },
  "latex_envs": {
   "LaTeX_envs_menu_present": true,
   "autoclose": false,
   "autocomplete": true,
   "bibliofile": "biblio.bib",
   "cite_by": "apalike",
   "current_citInitial": 1,
   "eqLabelWithNumbers": true,
   "eqNumInitial": 1,
   "hotkeys": {
    "equation": "Ctrl-E",
    "itemize": "Ctrl-I"
   },
   "labels_anchors": false,
   "latex_user_defs": false,
   "report_style_numbering": false,
   "user_envs_cfg": false
  },
  "nteract": {
   "version": "0.2.0"
  }
 },
 "nbformat": 4,
 "nbformat_minor": 2
}
